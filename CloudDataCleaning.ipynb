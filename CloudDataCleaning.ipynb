{
 "cells": [
  {
   "cell_type": "code",
   "execution_count": 27,
   "id": "67bb2e97",
   "metadata": {},
   "outputs": [],
   "source": [
    "import pandas as pd\n",
    "import os\n",
    "from tqdm import tqdm"
   ]
  },
  {
   "cell_type": "code",
   "execution_count": 30,
   "id": "83365d82",
   "metadata": {},
   "outputs": [],
   "source": [
    "folder_path = 'C:/Users/rambh/Downloads/Cloud'"
   ]
  },
  {
   "cell_type": "code",
   "execution_count": 31,
   "id": "d93ac30f",
   "metadata": {},
   "outputs": [
    {
     "name": "stderr",
     "output_type": "stream",
     "text": [
      "100%|██████████| 104/104 [09:22<00:00,  5.40s/it]\n"
     ]
    }
   ],
   "source": [
    "# Create an empty DataFrame without columns\n",
    "yearly_dfs = []\n",
    "montly_dfs = []\n",
    "quar_dfs = []\n",
    "\n",
    "cnt = 0\n",
    "\n",
    "# Iterate over each file in the folder\n",
    "for file_name in tqdm(os.listdir(folder_path)):\n",
    "    if file_name.endswith('.csv'):\n",
    "        file_path = os.path.join(folder_path, file_name)\n",
    "        stock_name = file_name.split('_with')[0]\n",
    "#         print(stock_name)\n",
    "        df = pd.read_csv(file_path)\n",
    "        \n",
    "        df['date'] = pd.to_datetime(df['date'])\n",
    "\n",
    "        # Extract year, month, and quarter into separate columns\n",
    "        df['year'] = df['date'].dt.year\n",
    "        df['month'] = df['date'].dt.month\n",
    "        df['quarter'] = df['date'].dt.quarter\n",
    "        \n",
    "        yearly_avg = df.groupby('year').mean().reset_index()\n",
    "        yearly_avg['Company'] = stock_name\n",
    "        yearly_dfs.append(yearly_avg)\n",
    "        \n",
    "        monthly_avg_per_year = df.groupby(['year', 'month']).mean().reset_index()\n",
    "        monthly_avg_per_year['Company'] = stock_name\n",
    "        montly_dfs.append(monthly_avg_per_year)\n",
    "        \n",
    "        quarterly_avg_per_year = df.groupby(['year', 'quarter']).mean().reset_index()\n",
    "        quarterly_avg_per_year['Company'] = stock_name\n",
    "        quar_dfs.append(quarterly_avg_per_year)\n",
    "        \n",
    "        cnt += 1\n",
    "\n",
    "        \n",
    "yearly_df = pd.concat(yearly_dfs, axis=0, ignore_index=True)\n",
    "montly_df = pd.concat(montly_dfs, axis=0, ignore_index=True)\n",
    "qrt_df = pd.concat(quar_dfs, axis=0, ignore_index=True)"
   ]
  },
  {
   "cell_type": "code",
   "execution_count": 35,
   "id": "06ad30b8",
   "metadata": {},
   "outputs": [
    {
     "name": "stdout",
     "output_type": "stream",
     "text": [
      "101\n"
     ]
    }
   ],
   "source": [
    "print(cnt)"
   ]
  },
  {
   "cell_type": "code",
   "execution_count": 41,
   "id": "bf5cc18c",
   "metadata": {},
   "outputs": [],
   "source": [
    "# output_file_path = 'C:\\\\Users\\\\rambh\\\\Downloads\\\\Cloud\\\\combined'\n",
    "# yearly_df.to_csv(output_file_path + 'yearly_data.csv', index=False)\n",
    "# montly_df.to_csv(output_file_path + 'monthly_data.csv', index=False)\n",
    "# qrt_df.to_csv(output_file_path + 'quarterly_data.csv', index=False)"
   ]
  },
  {
   "cell_type": "code",
   "execution_count": 44,
   "id": "2d3461fc",
   "metadata": {},
   "outputs": [
    {
     "name": "stdout",
     "output_type": "stream",
     "text": [
      "CSV files saved successfully!\n"
     ]
    }
   ],
   "source": [
    "output_file_path = 'C:\\\\Users\\\\rambh\\\\Downloads\\\\Cloud\\\\combined\\\\'\n",
    "\n",
    "try:\n",
    "    # Save DataFrames to CSV files\n",
    "    yearly_df.to_csv(output_file_path + 'yearly_data.csv', index=False)\n",
    "    montly_df.to_csv(output_file_path + 'monthly_data.csv', index=False)\n",
    "    qrt_df.to_csv(output_file_path + 'quarterly_data.csv', index=False)\n",
    "    \n",
    "    # Print confirmation message\n",
    "    print(\"CSV files saved successfully!\")\n",
    "except Exception as e:\n",
    "    # Print error message if an exception occurs\n",
    "    print(f\"Error occurred while saving CSV files: {e}\")"
   ]
  },
  {
   "cell_type": "code",
   "execution_count": null,
   "id": "ceef370d",
   "metadata": {},
   "outputs": [],
   "source": []
  }
 ],
 "metadata": {
  "kernelspec": {
   "display_name": "Python 3 (ipykernel)",
   "language": "python",
   "name": "python3"
  },
  "language_info": {
   "codemirror_mode": {
    "name": "ipython",
    "version": 3
   },
   "file_extension": ".py",
   "mimetype": "text/x-python",
   "name": "python",
   "nbconvert_exporter": "python",
   "pygments_lexer": "ipython3",
   "version": "3.9.12"
  }
 },
 "nbformat": 4,
 "nbformat_minor": 5
}
